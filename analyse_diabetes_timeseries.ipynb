{
 "cells": [
  {
   "cell_type": "code",
   "execution_count": null,
   "metadata": {
    "collapsed": false
   },
   "outputs": [],
   "source": [
    "from __future__ import division\n",
    "\n",
    "%matplotlib inline\n",
    "\n",
    "from pylab import *\n",
    "import numpy as np\n",
    "import pandas as pd\n",
    "import datetime\n",
    "import os"
   ]
  },
  {
   "cell_type": "code",
   "execution_count": null,
   "metadata": {
    "collapsed": false
   },
   "outputs": [],
   "source": [
    "def dateparse(julian):    \n",
    "    time_in_secs = (float(julian) - 2440587.5) * 86400\n",
    "    return datetime.datetime.fromtimestamp(float(time_in_secs))\n",
    "\n",
    "data = dict()\n",
    "files_1col = ['blood_glucose_g4receiver_2.txt', 'blood_glucose_meter_2.txt', \n",
    "         'blood_glucose_xdrip_2.txt', 'carbs_total_2.txt', 'hba1c_2.txt', 'infusion_placement_2.txt',\n",
    "             'insulin_basal_pruned_2.txt', 'insulin_basal_rate_2.txt']\n",
    "# 'insulin_basal_2.txt'\n",
    "directory = 'data/'\n",
    "\n",
    "for f in files_1col:\n",
    "    path = os.path.join(directory, f)\n",
    "    name = f.replace('.txt', '')\n",
    "    data[name] = pd.read_csv(path, header=None, parse_dates=True, date_parser=dateparse, \n",
    "                        index_col='DateTime', names=['DateTime', name], delim_whitespace=True)\n",
    "\n",
    "df = pd.concat(list(data.values()))"
   ]
  },
  {
   "cell_type": "code",
   "execution_count": null,
   "metadata": {
    "collapsed": false
   },
   "outputs": [],
   "source": [
    "df1 = df[['insulin_basal_pruned_2']]"
   ]
  },
  {
   "cell_type": "code",
   "execution_count": null,
   "metadata": {
    "collapsed": false
   },
   "outputs": [],
   "source": [
    "# Plot of Statistics\n",
    "\n",
    "window_size = 100\n",
    "\n",
    "df1.plot(title='Orignal', figsize=(20,5))\n",
    "\n",
    "r = df1.rolling(window=window_size)\n",
    "r.mean().plot(title='Mean', figsize=(20,5))\n",
    "r.median().plot(title='Median', figsize=(20,5))\n",
    "r.std().plot(title='Standard Deviation', figsize=(20,5))"
   ]
  },
  {
   "cell_type": "code",
   "execution_count": null,
   "metadata": {
    "collapsed": false
   },
   "outputs": [],
   "source": [
    "df['hour'] = df.index.hour\n",
    "df[['blood_glucose_meter_2',\n",
    "    'carbs_total_2',\n",
    "    'insulin_basal_pruned_2'\n",
    "    ,'hour']].boxplot(by='hour', layout=(3,1), figsize=(10,10))"
   ]
  },
  {
   "cell_type": "code",
   "execution_count": null,
   "metadata": {
    "collapsed": false
   },
   "outputs": [],
   "source": [
    "# Correlations\n",
    "\n",
    "print(df.corr())\n",
    "print(r.mean().corr())"
   ]
  },
  {
   "cell_type": "code",
   "execution_count": null,
   "metadata": {
    "collapsed": true
   },
   "outputs": [],
   "source": []
  }
 ],
 "metadata": {
  "anaconda-cloud": {},
  "kernelspec": {
   "display_name": "Python [Root]",
   "language": "python",
   "name": "Python [Root]"
  },
  "language_info": {
   "codemirror_mode": {
    "name": "ipython",
    "version": 3
   },
   "file_extension": ".py",
   "mimetype": "text/x-python",
   "name": "python",
   "nbconvert_exporter": "python",
   "pygments_lexer": "ipython3",
   "version": "3.5.2"
  }
 },
 "nbformat": 4,
 "nbformat_minor": 0
}
